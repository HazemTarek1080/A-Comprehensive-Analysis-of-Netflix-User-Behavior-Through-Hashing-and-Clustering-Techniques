{
 "cells": [
  {
   "cell_type": "markdown",
   "id": "27e6a72f",
   "metadata": {},
   "source": [
    "### 5. Algorithmic Question\n",
    "\n",
    "First we will consider the Brute-force algorithm which go over all the possible scores and return the maximal one.    \n",
    "This is clearly not the optimal solution because in this case we have running time of order O(n!)- which is higher than exponential !!  "
   ]
  },
  {
   "cell_type": "code",
   "execution_count": 23,
   "id": "af71c57a",
   "metadata": {},
   "outputs": [],
   "source": [
    "#brute force solution\n",
    "\n",
    "def exams_score(score, exams):\n",
    "    if len(exams) == 1:\n",
    "        return exams[0]\n",
    "    else:\n",
    "        return max([exams_score(element, [x + (score - element) for x in exams if x != element]) for element in exams])"
   ]
  },
  {
   "cell_type": "code",
   "execution_count": 31,
   "id": "91bf7c0e",
   "metadata": {},
   "outputs": [
    {
     "name": "stdout",
     "output_type": "stream",
     "text": [
      "Enter initial personal score: 25\n",
      "Enter exams marks: 18 24 21 32 27\n"
     ]
    },
    {
     "data": {
      "text/plain": [
       "44"
      ]
     },
     "execution_count": 31,
     "metadata": {},
     "output_type": "execute_result"
    }
   ],
   "source": [
    "score = int(input(\"Enter initial personal score: \"))\n",
    "arr = list(map(int, input(\"Enter exams marks: \").split()))\n",
    "exams_score(score, arr)"
   ]
  },
  {
   "cell_type": "markdown",
   "id": "ed4ad484",
   "metadata": {},
   "source": [
    "### Optimal Implementation\n",
    "The following solution is the **optimal one:**"
   ]
  },
  {
   "cell_type": "code",
   "execution_count": 20,
   "id": "4034b76a",
   "metadata": {},
   "outputs": [],
   "source": [
    "#optimized implementation\n",
    "import math\n",
    "\n",
    "def max_score(score, arr):\n",
    "    if len(arr) == 0:\n",
    "        return score\n",
    "    index = math.ceil(len(arr) / 2) - 1\n",
    "    next_score = arr[index]\n",
    "    return max_score_calc(next_score, [x + (score - next_score) for x in arr if x != next_score])\n",
    "\n",
    "def max_score_calc(score, arr):\n",
    "    return max_score(score, sorted(arr))"
   ]
  },
  {
   "cell_type": "code",
   "execution_count": 21,
   "id": "2ab546ef",
   "metadata": {},
   "outputs": [
    {
     "name": "stdout",
     "output_type": "stream",
     "text": [
      "Enter initial personal score: 30\n",
      "Enter exams marks: 13 27 41 59 28 33 39 19 52 48 55 79\n"
     ]
    },
    {
     "data": {
      "text/plain": [
       "205"
      ]
     },
     "execution_count": 21,
     "metadata": {},
     "output_type": "execute_result"
    }
   ],
   "source": [
    "score = int(input(\"Enter initial personal score: \"))\n",
    "arr = list(map(int, input(\"Enter exams marks: \").split()))\n",
    "max_score_calc(score, arr)"
   ]
  },
  {
   "cell_type": "markdown",
   "id": "b7cb85f6",
   "metadata": {},
   "source": [
    "### Proof of Correctness\n",
    "\n",
    "**Base Case**: The base case is when the array `arr` is empty, n = 0. In this case, the function max_score returns the initial score `score`, which is correct because there are no more exams to take.\n",
    "\n",
    "**Inductive Hypothesis**: Assume that the algorithm works correctly for an array of size n. This means that the algorithm correctly calculates the maximum possible score for an array of size n.\n",
    "\n",
    "**Inductive Step**: The algorithm always chooses the middle element of the array as the next score, and then recursively calculates the maximum score for the remaining elements. Since the remaining elements are a subset of the original array, and we have assumed that the algorithm works correctly for an array of length n, it follows that the algorithm also works correctly for an array of length n+1"
   ]
  },
  {
   "cell_type": "markdown",
   "id": "6da57ab6",
   "metadata": {},
   "source": [
    "### Running time - Optimal Solution\n",
    "Denote n as the length of our input array 'arr'.\n",
    "We will prove our algorithm run in O(n *log(n)):\n",
    "\n",
    "First note thet we are calling the `max_score_calc` that send our input score and the sorted version of our array into the `max_score` function.\n",
    "- `max_score(score, sorted(arr))` - The sorted() function has a time complexity of O(n log n)\n",
    "\n",
    "Afterward for the function `max_score` we have:\n",
    "- `if len(arr) == 0` : The algorithm first checks if the array is empty. This operation has a constant time complexity of O(1).\n",
    "- `index = math.ceil(len(arr) / 2) - 1` : Selects the index of middle element of the array using len and ceil takes O(1).\n",
    "- `next_score = arr[index]` : Selecting an element from a sorted array has a time complexity of O(1).  \n",
    "- `max_score_calc(next_score, [x + (score - next_score) for x in arr if x != next_score])`: Now we call our function in a recursive way with len(arr) = N-1. Also note that we change each element in the new array this is done by going over all elements in the array which takes O(n) and in the next recursive call this will take O(n- 1), since the length of the new input array decrease.  \n",
    "Therfore the overall running time of `max_score` is O(n + (n-1) + (n-2) + ... + 1) < O( c * n) = O(n).\n",
    "\n",
    "So we get our algorithm has running time of O(n log(n) + n) = O(n log(n)).  \n",
    "\n",
    "This implementation is the optimal one since in order to solve the question me must sort the given array which takes at least O(n log(n))."
   ]
  },
  {
   "cell_type": "markdown",
   "id": "47e99dde",
   "metadata": {},
   "source": [
    "### AI third implementation\n",
    "\n",
    "The following code is the implementation suggested by chatGPT.\n",
    "The running time of this code is explained as follow:\n",
    "\n",
    "In this code, S is the initial score and exams is a list of exam marks. The function max_score returns the maximum possible score. The time complexity of this solution is O(N^2), where N is the number of exams. This is because for each exam, we are iterating over all the previous exams to calculate the maximum possible score. The space complexity is O(N), which is used to store the dynamic programming table dp.\n"
   ]
  },
  {
   "cell_type": "code",
   "execution_count": 26,
   "id": "f407326a",
   "metadata": {},
   "outputs": [],
   "source": [
    "def max_score_ai(S, exams):\n",
    "    exams.sort(reverse=True)\n",
    "    dp = [0]*len(exams)\n",
    "    for i in range(len(exams)):\n",
    "        for j in range(i):\n",
    "            if exams[i] > exams[j]:\n",
    "                dp[i] = max(dp[i], dp[j] + exams[i] - exams[j])\n",
    "            else:\n",
    "                dp[i] = max(dp[i], dp[j] + S - exams[i])\n",
    "        dp[i] = max(dp[i], exams[i])\n",
    "    return dp[-1]"
   ]
  },
  {
   "cell_type": "code",
   "execution_count": 28,
   "id": "79001fd5",
   "metadata": {},
   "outputs": [
    {
     "name": "stdout",
     "output_type": "stream",
     "text": [
      "Enter initial personal score: 30\n",
      "Enter exams marks:  13 27 41 59 28 33 39 19 52 48 55 79\n"
     ]
    },
    {
     "data": {
      "text/plain": [
       "112"
      ]
     },
     "execution_count": 28,
     "metadata": {},
     "output_type": "execute_result"
    }
   ],
   "source": [
    "score = int(input(\"Enter initial personal score: \"))\n",
    "arr = list(map(int, input(\"Enter exams marks: \").split()))\n",
    "max_score_ai(score, arr)"
   ]
  },
  {
   "cell_type": "markdown",
   "id": "5c54ad30",
   "metadata": {},
   "source": [
    "Clearly the algorithm is wrong since the Max_score for the input given is 105 and not 112."
   ]
  }
 ],
 "metadata": {
  "kernelspec": {
   "display_name": "Python 3 (ipykernel)",
   "language": "python",
   "name": "python3"
  },
  "language_info": {
   "codemirror_mode": {
    "name": "ipython",
    "version": 3
   },
   "file_extension": ".py",
   "mimetype": "text/x-python",
   "name": "python",
   "nbconvert_exporter": "python",
   "pygments_lexer": "ipython3",
   "version": "3.9.7"
  }
 },
 "nbformat": 4,
 "nbformat_minor": 5
}
